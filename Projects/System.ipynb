{
 "cells": [
  {
   "cell_type": "code",
   "execution_count": 1,
   "metadata": {},
   "outputs": [],
   "source": [
    "%run StdPackages.ipynb"
   ]
  },
  {
   "cell_type": "markdown",
   "metadata": {},
   "source": [
    "# Electricity System model"
   ]
  },
  {
   "cell_type": "markdown",
   "metadata": {},
   "source": [
    "### 0.1: Namespace"
   ]
  },
  {
   "cell_type": "markdown",
   "metadata": {},
   "source": [
    "We define the system with the following global sets:\n",
    "* $t$: Years.\n",
    "* $h$: Intra-yearly index (e.g. hours).\n",
    "* $m$: Markets. For instance electricity, heat, gas.\n",
    "* $g$: Geographic index.\n",
    "* $i$: Individual firms/plants operating in the market, supply side.\n",
    "* $j$: Individual firms/plants/consumers operating in the market, demand side.\n",
    "* $p$: Technology type. \n",
    "* $f$: fuel type. \n",
    "* $b$: aggregate level of fuel types.\n",
    "* $v$: intra-yearly variation in productivity."
   ]
  },
  {
   "cell_type": "markdown",
   "metadata": {},
   "source": [
    "General namespace convention:\n",
    "* If a set $(x)$ is aliased, we use the syntax $xx$ for the alias (potentially $xxx$ if more is needed).\n",
    "* Mappings between two sets $(x,y)$ are named $x2y[x,y]$.\n",
    "* Variable names representing quantities/values/prices starts with $q\\_,v\\_,p\\_$. "
   ]
  },
  {
   "cell_type": "markdown",
   "metadata": {},
   "source": [
    "### 0.2: Global settings"
   ]
  },
  {
   "cell_type": "markdown",
   "metadata": {},
   "source": [
    "Define the global settings for the model. This includes:\n",
    "* Dynamic/not dynamic: Determines whether or not a $t$ index is added to relevant variables.\n",
    "* Chronological/not chronological: Determines whether or not the intra-yearly index $h$ is chronological. The $h$ index cannot be removed/turned off. \n",
    "* Single/multiple markets.\n",
    "* Single/multiple geographic areas.\n",
    "* Single/multiple demand components.\n",
    "* Allow for variation in productivity ($v$) or not.\n",
    "\n",
    "Let's build the model from the global settings."
   ]
  },
  {
   "cell_type": "markdown",
   "metadata": {},
   "source": [
    "# 1: Global settings"
   ]
  },
  {
   "cell_type": "code",
   "execution_count": 2,
   "metadata": {},
   "outputs": [],
   "source": [
    "gse = global_settings.gs_Energy"
   ]
  },
  {
   "cell_type": "markdown",
   "metadata": {},
   "source": [
    "Settings:\n",
    "* namespace: Use 'E_' infront of everything for simplicity.\n",
    "* indices: Make it dynamic (one year), chronological (default), single market, single geographic area, single demand component."
   ]
  },
  {
   "cell_type": "code",
   "execution_count": 3,
   "metadata": {},
   "outputs": [],
   "source": [
    "s = global_settings.gs_Energy(index = ['t','v'], kwargs_ns = {k: 'E_'+k for k in gse.time_sets()+gse.fixed_index()})"
   ]
  },
  {
   "cell_type": "markdown",
   "metadata": {},
   "source": [
    "# 2: Plant modules"
   ]
  },
  {
   "cell_type": "markdown",
   "metadata": {},
   "source": [
    "The plant modules depend on the global settings. We define these from a plant inventory."
   ]
  },
  {
   "cell_type": "markdown",
   "metadata": {},
   "source": [
    "## 2.1: The standard plant module\n",
    "\n",
    "The standard plant module defines three blocks/groups that can be used. This includes:"
   ]
  },
  {
   "cell_type": "markdown",
   "metadata": {},
   "source": [
    "#### i) MC:\n",
    "Computes marginal costs (in future version expand this to include capacity utilization):"
   ]
  },
  {
   "cell_type": "markdown",
   "metadata": {},
   "source": [
    "**Equations**:\n",
    "* *Marginal costs:*\n",
    "\n",
    "    ```python\n",
    "    MC(MC, VOM, eqcond=None, TaxFunctions=None):\n",
    "    ```\n",
    "\n",
    "| Parameter     | Type                | Description                                         |\n",
    "|---------------|---------------------|-----------------------------------------------------|\n",
    "| *MC*          | gpy_symbol          | Left hand side, defined by the equation)            |\n",
    "| *VOM*         | gpy_symbol          | Variable operating and maintenance costs            |\n",
    "| *eqcond*      | gcond               | conditional on equation                             |\n",
    "| *TaxFunctions*| iterable of strings | Add all elements in TaxFunctions to the MC equation |\n",
    "\n",
    "* "
   ]
  },
  {
   "cell_type": "code",
   "execution_count": null,
   "metadata": {},
   "outputs": [],
   "source": []
  }
 ],
 "metadata": {
  "kernelspec": {
   "display_name": "Python 3",
   "language": "python",
   "name": "python3"
  },
  "language_info": {
   "codemirror_mode": {
    "name": "ipython",
    "version": 3
   },
   "file_extension": ".py",
   "mimetype": "text/x-python",
   "name": "python",
   "nbconvert_exporter": "python",
   "pygments_lexer": "ipython3",
   "version": "3.8.3"
  }
 },
 "nbformat": 4,
 "nbformat_minor": 4
}
