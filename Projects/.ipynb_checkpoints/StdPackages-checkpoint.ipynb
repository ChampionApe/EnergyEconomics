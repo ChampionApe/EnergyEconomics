{
 "cells": [
  {
   "cell_type": "markdown",
   "metadata": {},
   "source": [
    "*Load global directory:*"
   ]
  },
  {
   "cell_type": "code",
   "execution_count": 1,
   "metadata": {},
   "outputs": [],
   "source": [
    "import os\n",
    "from pathlib import Path\n",
    "here = os.getcwd()\n",
    "os.chdir(Path(os.getcwd()).parent.absolute())\n",
    "%run Directory.ipynb\n",
    "directory['curr'] = here"
   ]
  },
  {
   "cell_type": "markdown",
   "metadata": {},
   "source": [
    "*Load DataBase and DB2Gams packages:*"
   ]
  },
  {
   "cell_type": "code",
   "execution_count": 2,
   "metadata": {},
   "outputs": [],
   "source": [
    "os.chdir(directory['py'])\n",
    "import DataBase as DB, DataBase_wheels as DB_wheels, DB2Gams, excel2py, gmspython,regex_gms,global_settings\n",
    "os.chdir(directory['curr'])"
   ]
  },
  {
   "cell_type": "markdown",
   "metadata": {},
   "source": [
    "*Define clean up function for work folder:*"
   ]
  },
  {
   "cell_type": "code",
   "execution_count": 2,
   "metadata": {},
   "outputs": [
    {
     "name": "stdout",
     "output_type": "stream",
     "text": [
      "No clean-up of work-folder\n"
     ]
    }
   ],
   "source": [
    "def f_clean_up(clean_up):\n",
    "    try:\n",
    "        if clean_up is True:\n",
    "            temp_gamsdb = [filename for filename in os.listdir(directory['work']) if filename.endswith((\".gdx\",\".gms\",\".lst\",\".g00\",\".pf\",\".opt\",\".gmy\"))]\n",
    "            for temp in temp_gamsdb:\n",
    "                try:\n",
    "                    os.remove(directory['work']+'\\\\'+temp)\n",
    "                except OSError as err:\n",
    "                    print('The file' + temp + ' is still active and was not deleted.')\n",
    "    except NameError:\n",
    "        print('No clean-up of work-folder')"
   ]
  }
 ],
 "metadata": {
  "kernelspec": {
   "display_name": "Python 3",
   "language": "python",
   "name": "python3"
  },
  "language_info": {
   "codemirror_mode": {
    "name": "ipython",
    "version": 3
   },
   "file_extension": ".py",
   "mimetype": "text/x-python",
   "name": "python",
   "nbconvert_exporter": "python",
   "pygments_lexer": "ipython3",
   "version": "3.8.3"
  }
 },
 "nbformat": 4,
 "nbformat_minor": 4
}
